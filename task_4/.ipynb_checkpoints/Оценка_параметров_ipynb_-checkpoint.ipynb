{
 "cells": [
  {
   "cell_type": "markdown",
   "metadata": {
    "id": "k5o6OFmh1foG"
   },
   "source": [
    "# Подготавливаем данные"
   ]
  },
  {
   "cell_type": "markdown",
   "metadata": {
    "id": "JwFCVl5-0h-r"
   },
   "source": [
    "Имипортируем необходимые библиотки"
   ]
  },
  {
   "cell_type": "code",
   "execution_count": 49,
   "metadata": {
    "colab": {
     "base_uri": "https://localhost:8080/"
    },
    "id": "0KsWUfbbUwEr",
    "outputId": "f0d58d56-0428-4bde-dd88-4c3718e13d38"
   },
   "outputs": [
    {
     "name": "stdout",
     "output_type": "stream",
     "text": [
      "Populating the interactive namespace from numpy and matplotlib\n"
     ]
    }
   ],
   "source": [
    "import numpy as np\n",
    "import pandas as pd\n",
    "import scipy\n",
    "\n",
    "from statsmodels.stats.weightstats import _zconfint_generic, _tconfint_generic\n",
    "from statsmodels.stats.proportion import proportion_confint\n",
    "\n",
    "%pylab inline"
   ]
  },
  {
   "cell_type": "markdown",
   "metadata": {
    "id": "EaOyif5s1vRO"
   },
   "source": [
    "Считываем данные, отображаем точечные оценки"
   ]
  },
  {
   "cell_type": "code",
   "execution_count": 50,
   "metadata": {
    "colab": {
     "base_uri": "https://localhost:8080/"
    },
    "id": "C39c-PJgFgu7",
    "outputId": "4158de31-f7ce-45ed-901c-a588fc729479"
   },
   "outputs": [
    {
     "data": {
      "text/plain": [
       "(10000, 7)"
      ]
     },
     "execution_count": 50,
     "metadata": {},
     "output_type": "execute_result"
    }
   ],
   "source": [
    "df = pd.read_csv('data-dc5d9e82-0625-4871-ac0e-11473ee1e5d8.csv', sep=',')\n",
    "df.shape"
   ]
  },
  {
   "cell_type": "markdown",
   "metadata": {
    "id": "om5CG4Wp5LkI"
   },
   "source": []
  },
  {
   "cell_type": "code",
   "execution_count": 51,
   "metadata": {
    "colab": {
     "base_uri": "https://localhost:8080/",
     "height": 206
    },
    "id": "LKks68mcVQ8v",
    "outputId": "0a17c9c5-04f5-4af3-9497-d1fef16766c4"
   },
   "outputs": [
    {
     "data": {
      "text/html": [
       "<div>\n",
       "<style scoped>\n",
       "    .dataframe tbody tr th:only-of-type {\n",
       "        vertical-align: middle;\n",
       "    }\n",
       "\n",
       "    .dataframe tbody tr th {\n",
       "        vertical-align: top;\n",
       "    }\n",
       "\n",
       "    .dataframe thead th {\n",
       "        text-align: right;\n",
       "    }\n",
       "</style>\n",
       "<table border=\"1\" class=\"dataframe\">\n",
       "  <thead>\n",
       "    <tr style=\"text-align: right;\">\n",
       "      <th></th>\n",
       "      <th>id</th>\n",
       "      <th>required_amt</th>\n",
       "      <th>installment_flg</th>\n",
       "      <th>monthly_income_amt</th>\n",
       "      <th>age</th>\n",
       "      <th>has_high_education_flg</th>\n",
       "      <th>approved_flg</th>\n",
       "    </tr>\n",
       "  </thead>\n",
       "  <tbody>\n",
       "    <tr>\n",
       "      <th>7635</th>\n",
       "      <td>7636</td>\n",
       "      <td>83682.0</td>\n",
       "      <td>1</td>\n",
       "      <td>27000</td>\n",
       "      <td>21</td>\n",
       "      <td>0</td>\n",
       "      <td>0</td>\n",
       "    </tr>\n",
       "    <tr>\n",
       "      <th>1751</th>\n",
       "      <td>1752</td>\n",
       "      <td>21999.0</td>\n",
       "      <td>0</td>\n",
       "      <td>45000</td>\n",
       "      <td>24</td>\n",
       "      <td>0</td>\n",
       "      <td>1</td>\n",
       "    </tr>\n",
       "    <tr>\n",
       "      <th>6465</th>\n",
       "      <td>6466</td>\n",
       "      <td>12999.0</td>\n",
       "      <td>0</td>\n",
       "      <td>48000</td>\n",
       "      <td>35</td>\n",
       "      <td>1</td>\n",
       "      <td>1</td>\n",
       "    </tr>\n",
       "    <tr>\n",
       "      <th>5064</th>\n",
       "      <td>5065</td>\n",
       "      <td>63990.0</td>\n",
       "      <td>0</td>\n",
       "      <td>50000</td>\n",
       "      <td>24</td>\n",
       "      <td>0</td>\n",
       "      <td>0</td>\n",
       "    </tr>\n",
       "    <tr>\n",
       "      <th>7872</th>\n",
       "      <td>7873</td>\n",
       "      <td>80991.0</td>\n",
       "      <td>1</td>\n",
       "      <td>76000</td>\n",
       "      <td>25</td>\n",
       "      <td>1</td>\n",
       "      <td>0</td>\n",
       "    </tr>\n",
       "  </tbody>\n",
       "</table>\n",
       "</div>"
      ],
      "text/plain": [
       "        id  required_amt  installment_flg  monthly_income_amt  age  \\\n",
       "7635  7636       83682.0                1               27000   21   \n",
       "1751  1752       21999.0                0               45000   24   \n",
       "6465  6466       12999.0                0               48000   35   \n",
       "5064  5065       63990.0                0               50000   24   \n",
       "7872  7873       80991.0                1               76000   25   \n",
       "\n",
       "      has_high_education_flg  approved_flg  \n",
       "7635                       0             0  \n",
       "1751                       0             1  \n",
       "6465                       1             1  \n",
       "5064                       0             0  \n",
       "7872                       1             0  "
      ]
     },
     "execution_count": 51,
     "metadata": {},
     "output_type": "execute_result"
    }
   ],
   "source": [
    "df.sample(5)"
   ]
  },
  {
   "cell_type": "markdown",
   "metadata": {
    "id": "a038-uCX5Puc"
   },
   "source": [
    "* id - идентификатор заявки на получение кредита на товар/услугу\n",
    "* required_amt - запрошенная сумма кредита\n",
    "* installment_flg - флаг промо продукта\n",
    "* monthly_income_amt - ежемесячный доход заявителя\n",
    "* age - возраст заявителя\n",
    "* has_high_education_flg - наличие высшего образования\n",
    "* approved_flg - одобрил ли банк заявку"
   ]
  },
  {
   "cell_type": "code",
   "execution_count": 12,
   "metadata": {
    "colab": {
     "base_uri": "https://localhost:8080/",
     "height": 300
    },
    "id": "WMDTz3-pXXs4",
    "outputId": "951a3189-d1b8-4248-fb03-53bf5b313a10"
   },
   "outputs": [
    {
     "data": {
      "text/html": [
       "<div>\n",
       "<style scoped>\n",
       "    .dataframe tbody tr th:only-of-type {\n",
       "        vertical-align: middle;\n",
       "    }\n",
       "\n",
       "    .dataframe tbody tr th {\n",
       "        vertical-align: top;\n",
       "    }\n",
       "\n",
       "    .dataframe thead th {\n",
       "        text-align: right;\n",
       "    }\n",
       "</style>\n",
       "<table border=\"1\" class=\"dataframe\">\n",
       "  <thead>\n",
       "    <tr style=\"text-align: right;\">\n",
       "      <th></th>\n",
       "      <th>id</th>\n",
       "      <th>required_amt</th>\n",
       "      <th>installment_flg</th>\n",
       "      <th>monthly_income_amt</th>\n",
       "      <th>age</th>\n",
       "      <th>has_high_education_flg</th>\n",
       "      <th>approved_flg</th>\n",
       "    </tr>\n",
       "  </thead>\n",
       "  <tbody>\n",
       "    <tr>\n",
       "      <th>count</th>\n",
       "      <td>10000.00000</td>\n",
       "      <td>9998.000000</td>\n",
       "      <td>10000.000000</td>\n",
       "      <td>1.000000e+04</td>\n",
       "      <td>10000.000000</td>\n",
       "      <td>10000.000000</td>\n",
       "      <td>10000.000000</td>\n",
       "    </tr>\n",
       "    <tr>\n",
       "      <th>mean</th>\n",
       "      <td>5000.50000</td>\n",
       "      <td>37806.147129</td>\n",
       "      <td>0.626000</td>\n",
       "      <td>4.654274e+04</td>\n",
       "      <td>32.532200</td>\n",
       "      <td>0.352100</td>\n",
       "      <td>0.261100</td>\n",
       "    </tr>\n",
       "    <tr>\n",
       "      <th>std</th>\n",
       "      <td>2886.89568</td>\n",
       "      <td>29479.567128</td>\n",
       "      <td>0.483888</td>\n",
       "      <td>3.622018e+04</td>\n",
       "      <td>11.355345</td>\n",
       "      <td>0.477649</td>\n",
       "      <td>0.439256</td>\n",
       "    </tr>\n",
       "    <tr>\n",
       "      <th>min</th>\n",
       "      <td>1.00000</td>\n",
       "      <td>2180.000000</td>\n",
       "      <td>0.000000</td>\n",
       "      <td>2.200000e+01</td>\n",
       "      <td>18.000000</td>\n",
       "      <td>0.000000</td>\n",
       "      <td>0.000000</td>\n",
       "    </tr>\n",
       "    <tr>\n",
       "      <th>25%</th>\n",
       "      <td>2500.75000</td>\n",
       "      <td>16990.000000</td>\n",
       "      <td>0.000000</td>\n",
       "      <td>2.800000e+04</td>\n",
       "      <td>24.000000</td>\n",
       "      <td>0.000000</td>\n",
       "      <td>0.000000</td>\n",
       "    </tr>\n",
       "    <tr>\n",
       "      <th>50%</th>\n",
       "      <td>5000.50000</td>\n",
       "      <td>27734.500000</td>\n",
       "      <td>1.000000</td>\n",
       "      <td>4.000000e+04</td>\n",
       "      <td>30.000000</td>\n",
       "      <td>0.000000</td>\n",
       "      <td>0.000000</td>\n",
       "    </tr>\n",
       "    <tr>\n",
       "      <th>75%</th>\n",
       "      <td>7500.25000</td>\n",
       "      <td>52534.750000</td>\n",
       "      <td>1.000000</td>\n",
       "      <td>5.500000e+04</td>\n",
       "      <td>38.000000</td>\n",
       "      <td>1.000000</td>\n",
       "      <td>1.000000</td>\n",
       "    </tr>\n",
       "    <tr>\n",
       "      <th>max</th>\n",
       "      <td>10000.00000</td>\n",
       "      <td>279788.000000</td>\n",
       "      <td>1.000000</td>\n",
       "      <td>1.500000e+06</td>\n",
       "      <td>74.000000</td>\n",
       "      <td>1.000000</td>\n",
       "      <td>1.000000</td>\n",
       "    </tr>\n",
       "  </tbody>\n",
       "</table>\n",
       "</div>"
      ],
      "text/plain": [
       "                id   required_amt  installment_flg  monthly_income_amt  \\\n",
       "count  10000.00000    9998.000000     10000.000000        1.000000e+04   \n",
       "mean    5000.50000   37806.147129         0.626000        4.654274e+04   \n",
       "std     2886.89568   29479.567128         0.483888        3.622018e+04   \n",
       "min        1.00000    2180.000000         0.000000        2.200000e+01   \n",
       "25%     2500.75000   16990.000000         0.000000        2.800000e+04   \n",
       "50%     5000.50000   27734.500000         1.000000        4.000000e+04   \n",
       "75%     7500.25000   52534.750000         1.000000        5.500000e+04   \n",
       "max    10000.00000  279788.000000         1.000000        1.500000e+06   \n",
       "\n",
       "                age  has_high_education_flg  approved_flg  \n",
       "count  10000.000000            10000.000000  10000.000000  \n",
       "mean      32.532200                0.352100      0.261100  \n",
       "std       11.355345                0.477649      0.439256  \n",
       "min       18.000000                0.000000      0.000000  \n",
       "25%       24.000000                0.000000      0.000000  \n",
       "50%       30.000000                0.000000      0.000000  \n",
       "75%       38.000000                1.000000      1.000000  \n",
       "max       74.000000                1.000000      1.000000  "
      ]
     },
     "execution_count": 12,
     "metadata": {},
     "output_type": "execute_result"
    }
   ],
   "source": [
    "df.describe()"
   ]
  },
  {
   "cell_type": "markdown",
   "metadata": {
    "id": "iOuKTvh_bPde"
   },
   "source": [
    "# Интервальная оценка среднего "
   ]
  },
  {
   "cell_type": "markdown",
   "metadata": {
    "id": "DBi1T3Qf2CZ7"
   },
   "source": [
    "Визуализируем выборки запрошенной суммы и ежемесячного дохода"
   ]
  },
  {
   "cell_type": "code",
   "execution_count": 13,
   "metadata": {
    "colab": {
     "base_uri": "https://localhost:8080/",
     "height": 321
    },
    "id": "-LR8NSn8h-eZ",
    "outputId": "aaf5a52f-6c29-4e7e-d5a6-b4034d2cfa31"
   },
   "outputs": [
    {
     "data": {
      "image/png": "[encoded data removed]",
      "text/plain": [
       "<Figure size 864x360 with 2 Axes>"
      ]
     },
     "metadata": {
      "needs_background": "light"
     },
     "output_type": "display_data"
    }
   ],
   "source": [
    "pylab.figure(figsize(12, 5))\n",
    "pylab.subplot(1,2,1)\n",
    "pylab.hist(df.required_amt[df.required_amt < df.required_amt.quantile(0.99)],\n",
    "           bins = 15,\n",
    "           color = 'b',\n",
    "           alpha = 0.9,\n",
    "           label = 'Запрошенная сумма')\n",
    "pylab.legend()\n",
    "\n",
    "pylab.subplot(1,2,2)\n",
    "pylab.hist(df.monthly_income_amt[df.monthly_income_amt < df.monthly_income_amt.quantile(0.99)],\n",
    "           bins = 15,\n",
    "           color = 'g',\n",
    "           alpha = 0.9,\n",
    "           label = 'Доход клиента')\n",
    "pylab.legend()\n",
    "\n",
    "pylab.show()"
   ]
  },
  {
   "cell_type": "markdown",
   "metadata": {
    "id": "awS2e-RW2M_o"
   },
   "source": [
    "По точечной оценке видно, что запрошенная сумма меньше ежемесячного дохода, попробуем сделать интервальную оценку, что бы повысить уверенность такого вывода"
   ]
  },
  {
   "cell_type": "markdown",
   "metadata": {
    "id": "0iHohIa0bPdf"
   },
   "source": [
    "## z-интервал - на основе Нормального распределения"
   ]
  },
  {
   "cell_type": "markdown",
   "metadata": {
    "id": "4fZ_EIuObPdf"
   },
   "source": [
    "Допустим, нам откуда-то известно, что среднеквадратическое отклонение $\\sigma = 5\\cdot10^4$. Построим доверительные интервалы для средних на основе ЦПТ $$\\bar{X}_n \\pm z_{1-\\frac{\\alpha}{2}} \\frac{\\sigma}{\\sqrt{n}}$$"
   ]
  },
  {
   "cell_type": "code",
   "execution_count": 14,
   "metadata": {
    "colab": {
     "base_uri": "https://localhost:8080/"
    },
    "id": "nwXlqdoBbPdg",
    "outputId": "7694dd4a-db06-44a7-a3d7-7fe16c74a40a"
   },
   "outputs": [
    {
     "name": "stdout",
     "output_type": "stream",
     "text": [
      "monthly_income_amt 95% confidence interval: [45,562.76 - 47,522.72]\n",
      "required_amt 95% confidence interval: [36,518.23 - 39,094.06]\n"
     ]
    }
   ],
   "source": [
    "monthly_income_conf_int = _zconfint_generic(df.monthly_income_amt.mean(),\n",
    "                                            5 * 1e4 / np.sqrt(len(df)),\n",
    "                                            0.05,\n",
    "                                            'two-sided')\n",
    "required_conf_int = _zconfint_generic(df.required_amt.mean(),\n",
    "                                      5 * 1e4 / np.sqrt(len(df)),\n",
    "                                      0.01,\n",
    "                                      'two-sided')\n",
    "\n",
    "print(f'monthly_income_amt 95% confidence interval: [{monthly_income_conf_int[0]:,.2f} - {monthly_income_conf_int[1]:,.2f}]')\n",
    "print(f'required_amt 95% confidence interval: [{required_conf_int[0]:,.2f} - {required_conf_int[1]:,.2f}]')"
   ]
  },
  {
   "cell_type": "markdown",
   "metadata": {
    "id": "X_dnv1Y0bPdg"
   },
   "source": [
    "## t-интервал - На основе распределения Стьюдента"
   ]
  },
  {
   "cell_type": "markdown",
   "metadata": {
    "id": "8tj6wj8chRRE"
   },
   "source": [
    "### О распределении Стьюдента"
   ]
  },
  {
   "cell_type": "markdown",
   "metadata": {
    "id": "W3rLzWv9hlx3"
   },
   "source": [
    "**Шаг № 1**\n",
    "\n",
    "Пусть $X \\sim F(x)$, где $F(x)$ - некоторое распределение, о котором известно:\n",
    "$$E(x) = \\mu$$\n",
    "$$D(x) = \\sigma^2$$\n",
    "\n",
    "В нашем распоряжении есть выборка объемом $n$ $$X^n = (X_1, . . . , X_n)$$\n",
    "\n",
    "Вспомним Центральную Предельную Теорему\n",
    "$$\\bar{X}_n\\approx\\sim N \\biggl ( E(x), \\frac{D(x)}{n} \\biggr)$$\n",
    "\n",
    "И рассмотрим следующую случайную величину $$Y = \\frac{\\bar{X}_n -\\mu}{\\sigma}{\\sqrt{n}}$$\n",
    "\n",
    "Видно, что она имеет стандартное нормальное распределение\n",
    "$$Y \\sim N (0, 1)$$\n",
    "\n",
    "На основе квантилей этого распределения и строится z-интервал для оценки $\\mu$. Стоит обратить внимание, что здесь используется дисперсия $\\sigma$, которую по выборке разумеется никак не понять.\n",
    "\n",
    "**Шаг № 2**\n",
    "\n",
    "Давайте тогда рассмотрим другую случайную величину $T$, заменив неизвестную истинную дисперсию $\\sigma$ её несмещенной выборочной оценкой $S$   $$T = \\frac{\\bar{X}_n -\\mu}{S}{\\sqrt{n}}$$\n",
    "\n",
    "Какое распределение имеет такая случайная величина?\n",
    "\n",
    "**Шаг № 3**\n",
    "\n",
    "Рассмотрим $X$ такую, что: $$X \\sim N(\\mu, \\sigma^2)$$\n",
    "Вспомним во-первых, что: $$S^2 = \\frac{1}{n - 1}\\sum_{i = 1}^n (X_i - \\bar{X}_n)^2$$\n",
    "\n",
    "А также: $$\\frac{X_i - \\bar{X}_n}{\\sigma} \\sim N(0, 1)$$\n",
    "\n",
    "Тогда: $$\\frac{(n - 1)\\cdot S^2}{\\sigma^2} = \\sum_{i = 1}^n \\frac{(X_i - \\bar{X}_n)^2}{\\sigma^2} \\sim \\sum_{i = 1}^n N^2(0, 1)$$\n",
    "\n",
    "**Шаг № 4**\n",
    "\n",
    "Вспомним, что по определению, если ${z_{1},\\ldots ,z_{k}}$ - совместно независимые стандартные нормальные случайные величины: ${z_{i}\\sim N(0,1)}$. Тогда сумма их квадратов распределена по хи-квадрат с $k$ степенями свободы: $$\\sum_{i = 1}^k z_i^2 \\sim \\chi^2(k)$$\n",
    "\n",
    "Стоит заметить, что в сумму $$\\sum_{i = 1}^n \\frac{(X_i - \\bar{X}_n)^2}{\\sigma^2}$$ входит только лишь $n - 1$ независимая случайная величиа, так как ввиду оценки матожидания по выборке, можно выразить одну из этих случайных величин через совокупность остальных. Поэтому $$\\frac{(n - 1)\\cdot S^2}{\\sigma^2} \\sim \\chi^2(n - 1)$$\n",
    "\n",
    "**Шаг № 5**\n",
    "\n",
    "Теперь мы готовы угадать распределение для $T$\n",
    "$$T = \\frac{\\bar{X}_n -\\mu}{S}{\\sqrt{n}} = \\frac{\\frac{\\bar{X}_n -\\mu}{\\sigma}{\\sqrt{n}}}{\\frac{S}{\\sigma}} \\sim \\frac{N(0, 1)}{\\sqrt{\\frac{\\chi^2(n - 1)}{n - 1}}}$$\n",
    "\n",
    "По определению, такая случайная величина имеет распределение Стьюдента c $n - 1$ степенью свободы $St(n - 1)$ на основе кванителей которого строится t-интервал. $t_{1-\\frac{\\alpha}{2}}$ при построении t-интервала это именно квантиль распределения Стьюдента, а не стандартного нормального, как при построении z-интервала.\n",
    "\n",
    "**Важное замечание**: внимательный читатель заметил, что вывод был произведен для нормально распределенной случайной величины, правда в том, что для непрерывных величин, не являющихся нормальными, как в нашем примере, данный вывод также справдлив с какой-то степенью точности. Теоритеческое обсуждение данного факта выходит за рамки нашего курса. Предлагаю при наличии интереса к этому вопросу поковыряться в интернете самостоятельно. Отсылки к проблемам нормальности исходных данных вы ещё встретите в курсе (да что там в курсе - в жизни!) в дальнейшем, в частности в лекциях про t-тесты Стьюдента. Будьте внимательны, и пользуйтесь параметрическими z- и t-интервалами для данных, в которых хоть как-то угадывается нормальное распределение, как в нашем случае.\n",
    "\n",
    "\n",
    "\n"
   ]
  },
  {
   "cell_type": "markdown",
   "metadata": {
    "id": "uVGG8XBUhb5F"
   },
   "source": [
    "### Применительно к построению интервалов"
   ]
  },
  {
   "cell_type": "markdown",
   "metadata": {
    "id": "LhBurSIkbPdg"
   },
   "source": [
    "Вместо гипотетической $\\sigma$, которую мы выдумали, используем выборочные дисперсии, и построим доверительные интервалы вида $$\\bar{X}_n \\pm t_{1-\\frac{\\alpha}{2}} \\frac{S}{\\sqrt{n}}$$"
   ]
  },
  {
   "cell_type": "code",
   "execution_count": 15,
   "metadata": {
    "colab": {
     "base_uri": "https://localhost:8080/"
    },
    "id": "8AEf42CzbPdh",
    "outputId": "9bb3150f-49ee-4dfd-a4c4-de41fcb8383e"
   },
   "outputs": [
    {
     "name": "stdout",
     "output_type": "stream",
     "text": [
      "monthly_income_amt 99% confidence interval: [45,832.75 - 47,252.73]\n",
      "required_amt 99% confidence interval: [37,228.29 - 38,384.01]\n"
     ]
    }
   ],
   "source": [
    "monthly_income_conf_int = _tconfint_generic( df.monthly_income_amt.mean(),\n",
    "                                            df.monthly_income_amt.std(ddof=1)/np.sqrt(len(df)),\n",
    "                                            len(df) - 1,\n",
    "                                            0.05,\n",
    "                                            'two-sided')\n",
    "required_conf_int = _tconfint_generic(df.required_amt.mean(),\n",
    "                                      df.required_amt.std(ddof=1)/np.sqrt(len(df)),\n",
    "                                      len(df) - 1,\n",
    "                                      0.05,\n",
    "                                      'two-sided')\n",
    "\n",
    "print(f'monthly_income_amt 99% confidence interval: [{monthly_income_conf_int[0]:,.2f} - {monthly_income_conf_int[1]:,.2f}]')\n",
    "print(f'required_amt 99% confidence interval: [{required_conf_int[0]:,.2f} - {required_conf_int[1]:,.2f}]')"
   ]
  },
  {
   "cell_type": "markdown",
   "metadata": {
    "id": "c_sHS4KpMpeF"
   },
   "source": [
    "## Интервальная оценка для парных выборок"
   ]
  },
  {
   "cell_type": "markdown",
   "metadata": {
    "id": "EXdE9UHBRCiZ"
   },
   "source": [
    "Визуализируем график разности"
   ]
  },
  {
   "cell_type": "code",
   "execution_count": 16,
   "metadata": {
    "colab": {
     "base_uri": "https://localhost:8080/"
    },
    "id": "UfpHIxCX0asl",
    "outputId": "f907117d-ed8e-42be-c939-900e45c0d7be"
   },
   "outputs": [
    {
     "data": {
      "image/png": "[encoded data removed]",
      "text/plain": [
       "<Figure size 864x360 with 1 Axes>"
      ]
     },
     "metadata": {
      "needs_background": "light"
     },
     "output_type": "display_data"
    }
   ],
   "source": [
    "min_diff = np.percentile(df[df.required_amt.notnull()].monthly_income_amt - df[df.required_amt.notnull()].required_amt, 0.5)\n",
    "max_diff = np.percentile(df[df.required_amt.notnull()].monthly_income_amt - df[df.required_amt.notnull()].required_amt, 99.5)\n",
    "sample = df.monthly_income_amt.values - df.required_amt.values\n",
    "sample = sample[(min_diff < sample) & (sample < max_diff)]\n",
    "\n",
    "pylab.figure(figsize(12, 5))\n",
    "pylab.subplot(1,2,1)\n",
    "pylab.hist(sample,\n",
    "           bins = 15,\n",
    "           color = 'b',\n",
    "           alpha = 0.8,\n",
    "           label = 'Разность месячного дохода и суммы кредита')\n",
    "pylab.legend()\n",
    "pylab.show()"
   ]
  },
  {
   "cell_type": "markdown",
   "metadata": {
    "id": "mjP6GVFfVaOp"
   },
   "source": [
    "*Небольшая ремарка*\n",
    "\n",
    "У вас может появиться вопрос, а почему такое симметричное распределение? Мы же показали, что интервалы не пересекаются?"
   ]
  },
  {
   "cell_type": "code",
   "execution_count": 17,
   "metadata": {
    "colab": {
     "base_uri": "https://localhost:8080/"
    },
    "id": "vN7xmV6MPt-r",
    "outputId": "e45c38dc-6785-4932-91e2-ee0e5050a197"
   },
   "outputs": [
    {
     "name": "stdout",
     "output_type": "stream",
     "text": [
      "5% перцентиль разности = -41,442.95\n"
     ]
    }
   ],
   "source": [
    "print(f'5% перцентиль разности = {np.percentile(sample, 5):,.2f}')"
   ]
  },
  {
   "cell_type": "markdown",
   "metadata": {
    "id": "ztxLKdnlWBe4"
   },
   "source": [
    "Построим предсказательный интервал для той же разности, воспользовавшись похожестью распределения на нормальное, строим t-интервал"
   ]
  },
  {
   "cell_type": "code",
   "execution_count": 18,
   "metadata": {
    "colab": {
     "base_uri": "https://localhost:8080/"
    },
    "id": "lw0oHkAeV3fD",
    "outputId": "f761739d-f87d-467e-e25e-73c527aa47a1"
   },
   "outputs": [
    {
     "name": "stdout",
     "output_type": "stream",
     "text": [
      "amount difference 95% predictive interval: [-50,402.44 - 66,575.07]\n"
     ]
    }
   ],
   "source": [
    "diff_pred_int = _zconfint_generic(sample.mean(),\n",
    "                                  sample.std(ddof=1),\n",
    "                                  0.05,\n",
    "                                  'two-sided')\n",
    "\n",
    "print(f'amount difference 95% predictive interval: [{diff_pred_int[0]:,.2f} - {diff_pred_int[1]:,.2f}]')"
   ]
  },
  {
   "cell_type": "markdown",
   "metadata": {
    "id": "1atGgSOuXS9-"
   },
   "source": [
    "Как видно - лежит он по обе стороны от нуля\n",
    "\n",
    "*Конец ремарки*"
   ]
  },
  {
   "cell_type": "markdown",
   "metadata": {
    "id": "gu2DDMxFSr7f"
   },
   "source": [
    "Теперь построим доверительный интервал для случайной величины $D$ - средней разности ежемесячного дохода и запрошенной суммы кредита с помощью t-статистики $$\\bar{D}_n \\pm t_{1-\\frac{\\alpha}{2}} \\frac{S_d}{\\sqrt{n}}$$"
   ]
  },
  {
   "cell_type": "code",
   "execution_count": 19,
   "metadata": {
    "colab": {
     "base_uri": "https://localhost:8080/"
    },
    "id": "WynGdrzRRloo",
    "outputId": "f4b45107-ea6a-4845-9c29-855ffcba4417"
   },
   "outputs": [
    {
     "name": "stdout",
     "output_type": "stream",
     "text": [
      "required_amt 99% confidence interval: [7,313.55 - 8,859.09]\n"
     ]
    }
   ],
   "source": [
    "diff_conf_int = _tconfint_generic(sample.mean(),\n",
    "                                  sample.std(ddof=1)/np.sqrt(len(sample)),\n",
    "                                  len(df) - 1,\n",
    "                                  0.01,\n",
    "                                  'two-sided')\n",
    "\n",
    "print(f'required_amt 99% confidence interval: [{diff_conf_int[0]:,.2f} - {diff_conf_int[1]:,.2f}]')"
   ]
  },
  {
   "cell_type": "markdown",
   "metadata": {
    "id": "bS89hpR0XkJu"
   },
   "source": [
    "Лежит полностью правее нуля -> статистически значимый результат на уровне значимости 1%"
   ]
  },
  {
   "cell_type": "markdown",
   "metadata": {
    "id": "lj9fW4RjYBUt"
   },
   "source": [
    "# Интервальная оценка для доли"
   ]
  },
  {
   "cell_type": "markdown",
   "metadata": {
    "id": "cUPYkGqJYBUx"
   },
   "source": [
    "Теперь давайте поработаем с бернуллиевской случайной величиной, построим доверительный интервал для доли заемщиков с высшим образованием "
   ]
  },
  {
   "cell_type": "markdown",
   "metadata": {
    "id": "IdLmOIvJYBUx"
   },
   "source": [
    "## z-интервал: На основе нормального распределения"
   ]
  },
  {
   "cell_type": "markdown",
   "metadata": {
    "id": "3zMz0SVhYBUy"
   },
   "source": [
    "$$\\hat{p}\\pm z_{1-\\frac{\\alpha}{2}} \\sqrt{\\frac{\\hat{p}\\left(1-\\hat{p}\\right)}{n}}$$"
   ]
  },
  {
   "cell_type": "code",
   "execution_count": 20,
   "metadata": {
    "id": "stqyTfvCYBUy"
   },
   "outputs": [],
   "source": [
    "normal_education_conf_int = proportion_confint(df.has_high_education_flg.sum(),\n",
    "                                               len(df.has_high_education_flg),\n",
    "                                               alpha = 0.01,\n",
    "                                               method = 'normal')"
   ]
  },
  {
   "cell_type": "markdown",
   "metadata": {
    "id": "aZ0H5s-Jc-9l"
   },
   "source": []
  },
  {
   "cell_type": "code",
   "execution_count": 21,
   "metadata": {
    "colab": {
     "base_uri": "https://localhost:8080/"
    },
    "id": "J3Tth6lqYBUz",
    "outputId": "bc2535dc-1abd-4d71-b8d8-daae3434da3c"
   },
   "outputs": [
    {
     "name": "stdout",
     "output_type": "stream",
     "text": [
      "has_high_education 99% confidence interval: [0.340 - 0.364]\n"
     ]
    }
   ],
   "source": [
    "print(f'has_high_education 99% confidence interval: [{normal_education_conf_int[0]:.3f} - {normal_education_conf_int[1]:.3f}]')"
   ]
  },
  {
   "cell_type": "markdown",
   "metadata": {
    "id": "BpVUG50-YBU0"
   },
   "source": [
    "## Доверительный интервал Уилсона"
   ]
  },
  {
   "cell_type": "markdown",
   "metadata": {
    "id": "u_Wsua6MYBU1"
   },
   "source": [
    "Для долей существует более качетсвенный метод построения доверительных интервалов - метод Уилсона.\n",
    "\n",
    "Он позволяет получать качественные оценки для долей близких к нулю или единице. Формула расчета такая:"
   ]
  },
  {
   "cell_type": "markdown",
   "metadata": {
    "id": "Y2e8zlLBYBU2"
   },
   "source": [
    "$$\\frac1{ 1 + \\frac{z^2}{n} } \\left( \\hat{p} + \\frac{z^2}{2n} \\pm z \\sqrt{ \\frac{ \\hat{p}\\left(1-\\hat{p}\\right)}{n} + \\frac{\n",
    "z^2}{4n^2} } \\right), \\;\\; z \\equiv z_{1-\\frac{\\alpha}{2}}$$ "
   ]
  },
  {
   "cell_type": "code",
   "execution_count": 22,
   "metadata": {
    "id": "zZNiIlVoYBU2"
   },
   "outputs": [],
   "source": [
    "wilson_education_conf_int = proportion_confint(df.has_high_education_flg.sum(),\n",
    "                                               len(df.has_high_education_flg),\n",
    "                                               alpha = 0.01,\n",
    "                                               method = 'wilson')"
   ]
  },
  {
   "cell_type": "code",
   "execution_count": 23,
   "metadata": {
    "colab": {
     "base_uri": "https://localhost:8080/"
    },
    "id": "bNAXqbxFYBU3",
    "outputId": "e402ba14-b978-464d-decf-1ab3f81b5d7c"
   },
   "outputs": [
    {
     "name": "stdout",
     "output_type": "stream",
     "text": [
      "has_high_education 99% confidence interval: [0.340 - 0.364]\n"
     ]
    }
   ],
   "source": [
    "print(f'has_high_education 99% confidence interval: [{wilson_education_conf_int[0]:.3f} - {wilson_education_conf_int[1]:.3f}]')"
   ]
  },
  {
   "cell_type": "markdown",
   "metadata": {
    "id": "NN92F6EAY2yA"
   },
   "source": [
    "## Доверительный интервал для разности долей (не связные выборки)"
   ]
  },
  {
   "cell_type": "markdown",
   "metadata": {
    "id": "Rb2HidyZY9Yg"
   },
   "source": [
    "Давайте сравним доли клиентов с высшим образованием среди заявок на рассрочки и кредиты"
   ]
  },
  {
   "cell_type": "code",
   "execution_count": 24,
   "metadata": {
    "colab": {
     "base_uri": "https://localhost:8080/"
    },
    "id": "k-CH6FPrYDyx",
    "outputId": "582bd034-7097-4be7-ebd5-52b7961f2905"
   },
   "outputs": [
    {
     "name": "stdout",
     "output_type": "stream",
     "text": [
      "installment client has_high_education 99% confidence interval: [0.347 - 0.379]\n"
     ]
    }
   ],
   "source": [
    "good_client_education_conf_int = proportion_confint(df[df.installment_flg == 1].has_high_education_flg.sum(),\n",
    "                                                    len(df[df.installment_flg == 1].has_high_education_flg),\n",
    "                                                    alpha = 0.01,\n",
    "                                                    method = 'wilson')\n",
    "\n",
    "print(f'installment client has_high_education 99% confidence interval: [{good_client_education_conf_int[0]:.3f} - {good_client_education_conf_int[1]:.3f}]')"
   ]
  },
  {
   "cell_type": "code",
   "execution_count": 25,
   "metadata": {
    "colab": {
     "base_uri": "https://localhost:8080/"
    },
    "id": "_kQd5sYVaKCQ",
    "outputId": "ca43ac86-149e-4e9e-8d1d-3d858236fde6"
   },
   "outputs": [
    {
     "name": "stdout",
     "output_type": "stream",
     "text": [
      "credit client has_high_education 99% confidence interval: [0.314 - 0.354]\n"
     ]
    }
   ],
   "source": [
    "bad_client_education_conf_int = proportion_confint(df[df.installment_flg == 0].has_high_education_flg.sum(),\n",
    "                                                    len(df[df.installment_flg == 0].has_high_education_flg),\n",
    "                                                    alpha = 0.01,\n",
    "                                                    method = 'wilson')\n",
    "\n",
    "print(f'credit client has_high_education 99% confidence interval: [{bad_client_education_conf_int[0]:.3f} - {bad_client_education_conf_int[1]:.3f}]')"
   ]
  },
  {
   "cell_type": "markdown",
   "metadata": {
    "id": "SDb5ewVndZeB"
   },
   "source": [
    "Надо как-то уточнять оценки, интервалы пересекаются ((\n",
    "\n",
    "Построим доверительный интервал для разности долей"
   ]
  },
  {
   "cell_type": "markdown",
   "metadata": {
    "id": "RBuRHf_zd-xF"
   },
   "source": [
    "$$\\text{Доверительный интервал для }p_1 - p_2\\colon \\;\\; \\hat{p}_1 - \\hat{p}_2 \\pm z_{1-\\frac{\\alpha}{2}}\\sqrt{\\frac{\\hat{p}_1(1 - \\hat{p}_1)}{n_1} + \\frac{\\hat{p}_2(1 - \\hat{p}_2)}{n_2}}$$"
   ]
  },
  {
   "cell_type": "code",
   "execution_count": 26,
   "metadata": {
    "id": "hNQj_f3raP2m"
   },
   "outputs": [],
   "source": [
    "def proportions_confint_diff_ind(sample1, sample2, alpha = 0.01):\n",
    "    '''Считает доверительный интервал для разности долей в независимых выборках'''\n",
    "    z = scipy.stats.norm.ppf(1 - alpha / 2.)\n",
    "    p1 = float(sum(sample1)) / len(sample1)\n",
    "    p2 = float(sum(sample2)) / len(sample2)\n",
    "    sigma = np.sqrt(p1 * (1 - p1)/ len(sample1) + p2 * (1 - p2)/ len(sample2))\n",
    "    left_boundary = (p1 - p2) - z * sigma\n",
    "    right_boundary = (p1 - p2) + z * sigma\n",
    "    return (left_boundary, right_boundary)"
   ]
  },
  {
   "cell_type": "code",
   "execution_count": 27,
   "metadata": {
    "colab": {
     "base_uri": "https://localhost:8080/"
    },
    "id": "uQa4jWa5eZDf",
    "outputId": "e3a1ec81-3396-47ef-c5a7-97af29160bae"
   },
   "outputs": [
    {
     "data": {
      "text/plain": [
       "(0.003690580769893991, 0.054273574976633474)"
      ]
     },
     "execution_count": 27,
     "metadata": {},
     "output_type": "execute_result"
    }
   ],
   "source": [
    "proportions_confint_diff_ind(df[df.installment_flg == 1].has_high_education_flg,\n",
    "                             df[df.installment_flg == 0].has_high_education_flg)"
   ]
  },
  {
   "cell_type": "markdown",
   "metadata": {
    "id": "wzmNtflEcl16"
   },
   "source": [
    "Решили проблему! Как это понять из доверительного интервала?"
   ]
  },
  {
   "cell_type": "markdown",
   "metadata": {
    "id": "ZzlaACvngj4J"
   },
   "source": [
    "## Доверительный интервал для разности долей (связные выборки)"
   ]
  },
  {
   "cell_type": "markdown",
   "metadata": {
    "id": "dN-e1lxisC1q"
   },
   "source": [
    "Рассмотрим надуманный, но хороший для иллюстрации пример:\n",
    "Надо оценить разность вероятности одобрения и факта, что клиент не моложе 39 лет"
   ]
  },
  {
   "cell_type": "code",
   "execution_count": 28,
   "metadata": {
    "colab": {
     "base_uri": "https://localhost:8080/"
    },
    "id": "D9zMEpctfqd5",
    "outputId": "eac82fd4-ed35-4153-b94d-6ce5c2b2ff13"
   },
   "outputs": [
    {
     "name": "stdout",
     "output_type": "stream",
     "text": [
      "respect client 99% confidence interval: [0.225 - 0.253]\n"
     ]
    }
   ],
   "source": [
    "respect_client_conf_int = proportion_confint(df[df.installment_flg == 1].age.apply(lambda x: 1 if x >= 39 else 0).sum(),\n",
    "                                         len(df[df.installment_flg == 1]),\n",
    "                                         alpha = 0.01,\n",
    "                                         method = 'wilson')\n",
    "\n",
    "print(f'respect client 99% confidence interval: [{respect_client_conf_int[0]:.3f} - {respect_client_conf_int[1]:.3f}]')"
   ]
  },
  {
   "cell_type": "code",
   "execution_count": 29,
   "metadata": {
    "colab": {
     "base_uri": "https://localhost:8080/"
    },
    "id": "uW8UO9R1toZd",
    "outputId": "4ea491df-f4e3-4260-a752-fc9ee6e0bf17"
   },
   "outputs": [
    {
     "name": "stdout",
     "output_type": "stream",
     "text": [
      "approved client 99% confidence interval: [0.247 - 0.275]\n"
     ]
    }
   ],
   "source": [
    "agr_client_conf_int = proportion_confint(df[df.installment_flg == 1].approved_flg.sum(),\n",
    "                                         len(df[df.installment_flg == 1]),\n",
    "                                         alpha = 0.01,\n",
    "                                         method = 'wilson')\n",
    "\n",
    "print(f'approved client 99% confidence interval: [{agr_client_conf_int[0]:.3f} - {agr_client_conf_int[1]:.3f}]')"
   ]
  },
  {
   "cell_type": "markdown",
   "metadata": {
    "id": "yNxVcV0ddJth"
   },
   "source": [
    "Интервалы пересекаются, не получается сделать однозначного вывода \n",
    "\n",
    "Посчитать разность долей как в прошлом примере не получится - почему?"
   ]
  },
  {
   "cell_type": "markdown",
   "metadata": {
    "id": "ThBxPzAZv6lc"
   },
   "source": [
    "Вспомним, что выборки связные\n",
    "\n",
    "Ранее были разные заявки - на рассрочку и на кредит -> они не пересекались\n",
    "\n",
    "Теперь мы смотрим на одни и те же заявки, но на разные показатели (доля одобрений и возраста не меньше 39 лет)\n",
    "\n",
    "Составим матрицу:"
   ]
  },
  {
   "cell_type": "markdown",
   "metadata": {
    "id": "YFqs7Ds-v5oR"
   },
   "source": [
    "  | $p_1$ \\ $p_2$ | 0| 1 | $\\sum$\n",
    "  ------------- | -------------|-------------|--------------\n",
    "  0  | $a_{00}$ | $a_{01}$ | $a_{00}$+$a_{01}$\n",
    "  1  | $a_{10}$ | $a_{11}$ | $a_{10}$+$a_{11}$\n",
    "  $\\sum$ | $a_{00}$+$a_{10}$| $a_{01}$+$a_{11}$ | n  \n",
    "\n",
    "\n",
    "$$ \\hat{p}_1 = \\frac{a_{10}+a_{11}}{n}$$\n",
    "\n",
    "$$ \\hat{p}_2 = \\frac{a_{01}+a_{11}}{n}$$\n",
    "\n",
    "$$ \\hat{p}_1 - \\hat{p}_2 = \\frac{a_{10}-a_{01}}{n}$$\n",
    "\n",
    "\n",
    "$$\\text{Доверительный интервал для }p_1 - p_2\\colon \\;\\;  \\frac{a_{10}-a_{01}}{n} \\pm z_{1-\\frac{\\alpha}{2}}\\sqrt{\\frac{a_{10}+a_{01}}{n^2} - \\frac{(a_{10}-a_{01})^2}{n^3}}$$"
   ]
  },
  {
   "cell_type": "code",
   "execution_count": 30,
   "metadata": {
    "id": "dL2Pr9aNtzzx"
   },
   "outputs": [],
   "source": [
    "def proportions_confint_diff_rel(sample1, sample2, alpha = 0.01):\n",
    "    '''Считает доверительный интервал для разности долей в связных выборках'''\n",
    "    z = scipy.stats.norm.ppf(1 - alpha / 2.)\n",
    "    n = len(sample1)\n",
    "    a_10 = sum([1 if (x[0] == 1 and x[1] == 0) else 0 for x in zip(sample1, sample2)])\n",
    "    a_01 = sum([1 if (x[0] == 0 and x[1] == 1) else 0 for x in zip(sample1, sample2)])\n",
    "    sigma = np.sqrt(float((a_10 + a_01)) / n ** 2 - float((a_10 - a_01) ** 2) / n ** 3)\n",
    "    left_boundary = float(a_10 - a_01) / n  - z * sigma\n",
    "    right_boundary = float(a_10 - a_01) / n  + z * sigma\n",
    "    return (left_boundary, right_boundary)"
   ]
  },
  {
   "cell_type": "code",
   "execution_count": 31,
   "metadata": {
    "colab": {
     "base_uri": "https://localhost:8080/"
    },
    "id": "-GEadx--zd9k",
    "outputId": "07dfc3d3-50d2-4a8f-d13e-d368b036b399"
   },
   "outputs": [
    {
     "data": {
      "text/plain": [
       "(0.003831804602544883, 0.03961867463068195)"
      ]
     },
     "execution_count": 31,
     "metadata": {},
     "output_type": "execute_result"
    }
   ],
   "source": [
    "proportions_confint_diff_rel(df[df.installment_flg == 1].approved_flg,\n",
    "                             df[df.installment_flg == 1].age.apply(lambda x: 1 if x >= 39 else 0))"
   ]
  },
  {
   "cell_type": "markdown",
   "metadata": {
    "id": "zcgUdsht03SX"
   },
   "source": [
    "# Доверительные интервалы с Bootstrap"
   ]
  },
  {
   "cell_type": "markdown",
   "metadata": {
    "id": "cq2Ncuhc4upQ"
   },
   "source": [
    "Посмотрим на распределение возраста заявителя в разрезе решения банка"
   ]
  },
  {
   "cell_type": "code",
   "execution_count": 32,
   "metadata": {
    "colab": {
     "base_uri": "https://localhost:8080/",
     "height": 320
    },
    "id": "NPVXwRQmzlOx",
    "outputId": "da385ba2-c58c-415b-fc54-b9c98f04353a"
   },
   "outputs": [
    {
     "data": {
      "image/png": "[encoded data removed]",
      "text/plain": [
       "<Figure size 864x360 with 2 Axes>"
      ]
     },
     "metadata": {
      "needs_background": "light"
     },
     "output_type": "display_data"
    }
   ],
   "source": [
    "pylab.figure(figsize(12, 5))\n",
    "pylab.subplot(1,2,1)\n",
    "pylab.hist(df[df.approved_flg == 0].age,\n",
    "          #  bins = 15,\n",
    "           color = 'b',\n",
    "           alpha = 0.8,\n",
    "           label = 'Отказные')\n",
    "pylab.legend()\n",
    "\n",
    "pylab.subplot(1,2,2)\n",
    "pylab.hist(df[df.approved_flg == 1].age,\n",
    "          #  bins = 15,\n",
    "           color = 'g',\n",
    "           alpha = 0.8,\n",
    "           label = 'Одобренные')\n",
    "pylab.legend()\n",
    "\n",
    "pylab.show()"
   ]
  },
  {
   "cell_type": "markdown",
   "metadata": {
    "id": "Aqu-yiZq45ne"
   },
   "source": [
    "Распределения очень сильно скошены, при этом величина (возраст) не является даже непрерывной, поэтому давайте вместо среднего оценим различия по медиане"
   ]
  },
  {
   "cell_type": "code",
   "execution_count": 33,
   "metadata": {
    "colab": {
     "base_uri": "https://localhost:8080/"
    },
    "id": "5l_TAr8-57lE",
    "outputId": "d4a60bb3-fe45-48ea-ca97-afb9593b4a50"
   },
   "outputs": [
    {
     "name": "stdout",
     "output_type": "stream",
     "text": [
      "Медианный возраст отказных клиентов = 28.0\n",
      "Медианный возраст одобренных клиентов = 35.0\n"
     ]
    }
   ],
   "source": [
    "print(f'Медианный возраст отказных клиентов = {df[df.approved_flg == 0].age.median()}')\n",
    "print(f'Медианный возраст одобренных клиентов = {df[df.approved_flg == 1].age.median()}')"
   ]
  },
  {
   "cell_type": "markdown",
   "metadata": {
    "id": "VUlR6nyO_Xmh"
   },
   "source": [
    "Идеальный способ оценки какой-либо статистики - это извлечение выборок из генеральной совокупности и оценка необходимой статистики по этим выборкам, проблема в неизвестности распределения генеральной совокупности.\n",
    "\n",
    "Лучшая оценка этого распределения — имеющаяся выборка. Давайте извлекать из нее с возвращением подвыборки равного объема.\n",
    "\n",
    "Далее на каждой из подвыборок можно вычислить нужную статистику, и таким образом оценивать эмпирическую функцию распределения.\n",
    "\n",
    "То есть в отличии от параметрических методов при помощи бутстрепа мы будем оценивать не теоретическую, а именно эмпирическую функцию распределения."
   ]
  },
  {
   "cell_type": "code",
   "execution_count": 34,
   "metadata": {
    "id": "B-ZHFT3d4csq"
   },
   "outputs": [],
   "source": [
    "def get_bootstrap_samples(data, n_samples):\n",
    "    '''Генерирует заданное кол-во (n_samples) выборок, равных по размеру исходной выборке'''\n",
    "    indices = np.random.randint(0, len(data), (n_samples, len(data)))\n",
    "    samples = data[indices]\n",
    "    return samples"
   ]
  },
  {
   "cell_type": "code",
   "execution_count": 35,
   "metadata": {
    "id": "vmJ59mRs5arU"
   },
   "outputs": [],
   "source": [
    "def get_stat_intervals(stat, alpha):\n",
    "    '''Для заданной выборки возвращает двусторонний доверительный интервал [aplpha/2, 1 - alpha/2]'''\n",
    "    boundaries = np.percentile(stat, [100 * alpha / 2., 100 * (1 - alpha / 2.)])\n",
    "    return boundaries"
   ]
  },
  {
   "cell_type": "markdown",
   "metadata": {
    "id": "hIAP9cdl7T0Z"
   },
   "source": [
    "Оцениваем интервально"
   ]
  },
  {
   "cell_type": "code",
   "execution_count": 36,
   "metadata": {
    "colab": {
     "base_uri": "https://localhost:8080/"
    },
    "id": "890dbgJe54Aa",
    "outputId": "39ca0e01-f5d9-4794-9fb4-5720ada9cd79"
   },
   "outputs": [
    {
     "name": "stdout",
     "output_type": "stream",
     "text": [
      "approved client 99% confidence interval: [34. 35.]\n",
      "rejected client 99% confidence interval: [28. 29.]\n"
     ]
    }
   ],
   "source": [
    "np.random.seed(0)\n",
    "\n",
    "approved_median_scores = list(map(np.median, get_bootstrap_samples(df[df.approved_flg == 1].age.values, 1000)))\n",
    "rejected_median_scores = list(map(np.median, get_bootstrap_samples(df[df.approved_flg == 0].age.values, 1000)))\n",
    "\n",
    "print('approved client 99% confidence interval:',  get_stat_intervals(approved_median_scores, 0.01))\n",
    "print('rejected client 99% confidence interval:',  get_stat_intervals(rejected_median_scores, 0.01))"
   ]
  },
  {
   "cell_type": "markdown",
   "metadata": {
    "id": "r_H7WKRA8y76"
   },
   "source": [
    "Модно даже \"спарить\" выборки"
   ]
  },
  {
   "cell_type": "code",
   "execution_count": 37,
   "metadata": {
    "colab": {
     "base_uri": "https://localhost:8080/"
    },
    "id": "rlgIaDBz7cd8",
    "outputId": "f43b397e-37d5-4ce4-f9ba-4ea52ebafcc8"
   },
   "outputs": [
    {
     "name": "stdout",
     "output_type": "stream",
     "text": [
      "Средняя разница в возрасте: 6.58 лет\n"
     ]
    }
   ],
   "source": [
    "diff_median_scores = list(map(lambda x: x[0] - x[1], zip(approved_median_scores, rejected_median_scores)))\n",
    "print(f'Средняя разница в возрасте: {sum(diff_median_scores) / len(diff_median_scores) :.2f} лет')"
   ]
  },
  {
   "cell_type": "code",
   "execution_count": 38,
   "metadata": {
    "colab": {
     "base_uri": "https://localhost:8080/"
    },
    "id": "68Vrha489CwM",
    "outputId": "d8525b8d-94e3-4f35-a2aa-ef51c45f6afd"
   },
   "outputs": [
    {
     "name": "stdout",
     "output_type": "stream",
     "text": [
      "99% confidence interval for the difference between medians [5. 7.]\n"
     ]
    }
   ],
   "source": [
    "print('99% confidence interval for the difference between medians',  get_stat_intervals(diff_median_scores, 0.01))"
   ]
  },
  {
   "cell_type": "markdown",
   "metadata": {
    "id": "UU1b8PAJDK6h"
   },
   "source": [
    "# Домашнее задание"
   ]
  },
  {
   "cell_type": "markdown",
   "metadata": {
    "id": "pEsLu-W49jHA"
   },
   "source": [
    "### На основе того же набора данных требуется\n",
    " \n",
    "1. Построить предсказательные интервалы для ежемесячного дохода и запрошенной суммы (в предположении логнормальности - логарифм этих переменных имеет нормальное распределение)\n",
    "2. Определить для каждого признака, разделяет ли он риски. Т.е. надо строить доверительные интервалы для **approved_flg** по каждому признаку. *Подсказка:* для бинарных признаков можно строить интервалы на разность долей, для вещественных признаков - используйте разбивки на бакеты (группы равного размера) и сравнивайте полученные интервалы между этими группами. Попробуйте визуализировать результаты (для вещественных признаков).\n",
    " "
   ]
  },
  {
   "cell_type": "code",
   "execution_count": 39,
   "metadata": {},
   "outputs": [],
   "source": [
    "def _pred_intrvl(data, s):\n",
    "    aux = np.exp(_zconfint_generic(data.mean(), data.std(ddof = 1), 0.05, 'two-sided'))\n",
    "    return print(f'{s}: [{aux[0]:.2f} - {aux[1]:.2f}]')\n"
   ]
  },
  {
   "cell_type": "code",
   "execution_count": 40,
   "metadata": {},
   "outputs": [
    {
     "name": "stdout",
     "output_type": "stream",
     "text": [
      "monthly_income_amt 95% predictive interval: [13008.65 - 119851.03]\n"
     ]
    }
   ],
   "source": [
    "_pred_intrvl(np.log(df['monthly_income_amt']), 'monthly_income_amt 95% predictive interval')"
   ]
  },
  {
   "cell_type": "code",
   "execution_count": 41,
   "metadata": {},
   "outputs": [
    {
     "name": "stdout",
     "output_type": "stream",
     "text": [
      "required_amt 95% predictive interval: [6677.61 - 124715.15]\n"
     ]
    }
   ],
   "source": [
    "_pred_intrvl(np.log(df['required_amt']), 'required_amt 95% predictive interval')"
   ]
  },
  {
   "cell_type": "markdown",
   "metadata": {},
   "source": [
    "### 2"
   ]
  },
  {
   "cell_type": "code",
   "execution_count": 42,
   "metadata": {},
   "outputs": [
    {
     "data": {
      "text/plain": [
       "(-0.02488224598127247, 0.021904336839108467)"
      ]
     },
     "execution_count": 42,
     "metadata": {},
     "output_type": "execute_result"
    }
   ],
   "source": [
    "#installment\n",
    "proportions_confint_diff_ind(df[df.installment_flg == 1].approved_flg,\n",
    "                             df[df.installment_flg == 0].approved_flg)"
   ]
  },
  {
   "cell_type": "markdown",
   "metadata": {},
   "source": [
    "Выводы сделать сложно..."
   ]
  },
  {
   "cell_type": "code",
   "execution_count": 43,
   "metadata": {},
   "outputs": [
    {
     "data": {
      "text/plain": [
       "(0.07806537137828923, 0.1267927508516632)"
      ]
     },
     "execution_count": 43,
     "metadata": {},
     "output_type": "execute_result"
    }
   ],
   "source": [
    "#has_high_education\n",
    "proportions_confint_diff_ind(df[df.has_high_education_flg == 1].approved_flg,\n",
    "                             df[df.has_high_education_flg == 0].approved_flg)"
   ]
  },
  {
   "cell_type": "code",
   "execution_count": 44,
   "metadata": {},
   "outputs": [],
   "source": [
    "def conf_int(data, attribute, count_bucket):\n",
    "    print(attribute, ':')\n",
    "    fig, ax = plt.subplots()\n",
    "    size_bucket = len(data) // count_bucket\n",
    "    df_sort = df.sort_values(by=attribute)\n",
    "    for i in range(0, count_bucket):\n",
    "        bucket = df_sort.iloc[i*size_bucket : (i+1)*size_bucket]['approved_flg'].values\n",
    "        boundaries = df_sort.iloc[i*size_bucket : (i+1)*size_bucket][attribute].values\n",
    "        bootstrap = get_bootstrap_samples(bucket, 1000)\n",
    "        means = bootstrap.mean(axis=1)\n",
    "        interval = get_stat_intervals(means, 0.05)    \n",
    "        ax.fill_between(np.linspace(min(boundaries), max(boundaries), 1000), interval[0], interval[1])\n",
    "        print((min(boundaries), max(boundaries)), f'[{interval[0]:.3f} - {interval[1]:.3f}]')\n",
    "    plt.show()\n"
   ]
  },
  {
   "cell_type": "code",
   "execution_count": 45,
   "metadata": {},
   "outputs": [
    {
     "name": "stdout",
     "output_type": "stream",
     "text": [
      "age :\n",
      "(18, 23) [0.080 - 0.103]\n",
      "(23, 27) [0.178 - 0.214]\n",
      "(27, 33) [0.263 - 0.302]\n",
      "(33, 41) [0.303 - 0.345]\n",
      "(41, 74) [0.392 - 0.434]\n"
     ]
    },
    {
     "data": {
      "image/png": "[encoded data removed]",
      "text/plain": [
       "<Figure size 864x360 with 1 Axes>"
      ]
     },
     "metadata": {
      "needs_background": "light"
     },
     "output_type": "display_data"
    }
   ],
   "source": [
    "conf_int(df, 'age', 5)"
   ]
  },
  {
   "cell_type": "code",
   "execution_count": 46,
   "metadata": {},
   "outputs": [
    {
     "name": "stdout",
     "output_type": "stream",
     "text": [
      "required_amt :\n",
      "(2180.0, 16990.0) [0.326 - 0.364]\n",
      "(16990.0, 27741.0) [0.271 - 0.306]\n",
      "(27750.0, 52605.0) [0.237 - 0.272]\n",
      "(52607.0, 279788.0) [0.144 - 0.171]\n"
     ]
    },
    {
     "data": {
      "image/png": "[encoded data removed]",
      "text/plain": [
       "<Figure size 864x360 with 1 Axes>"
      ]
     },
     "metadata": {
      "needs_background": "light"
     },
     "output_type": "display_data"
    }
   ],
   "source": [
    "conf_int(df, 'required_amt', 4)"
   ]
  },
  {
   "cell_type": "code",
   "execution_count": null,
   "metadata": {},
   "outputs": [],
   "source": []
  }
 ],
 "metadata": {
  "colab": {
   "collapsed_sections": [
    "k5o6OFmh1foG",
    "iOuKTvh_bPde",
    "0iHohIa0bPdf",
    "X_dnv1Y0bPdg",
    "8tj6wj8chRRE",
    "uVGG8XBUhb5F",
    "c_sHS4KpMpeF",
    "lj9fW4RjYBUt",
    "IdLmOIvJYBUx",
    "BpVUG50-YBU0",
    "NN92F6EAY2yA",
    "ZzlaACvngj4J",
    "zcgUdsht03SX",
    "UU1b8PAJDK6h",
    "pEsLu-W49jHA"
   ],
   "name": "Оценка параметров.ipynb\"",
   "provenance": []
  },
  "kernelspec": {
   "display_name": "Python 3",
   "language": "python",
   "name": "python3"
  },
  "language_info": {
   "codemirror_mode": {
    "name": "ipython",
    "version": 3
   },
   "file_extension": ".py",
   "mimetype": "text/x-python",
   "name": "python",
   "nbconvert_exporter": "python",
   "pygments_lexer": "ipython3",
   "version": "3.6.9"
  }
 },
 "nbformat": 4,
 "nbformat_minor": 1
}
