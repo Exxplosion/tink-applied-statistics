{
 "cells": [
  {
   "cell_type": "code",
   "execution_count": null,
   "metadata": {},
   "outputs": [],
   "source": []
  },
  {
   "cell_type": "code",
   "execution_count": null,
   "metadata": {},
   "outputs": [],
   "source": []
  },
  {
   "cell_type": "code",
   "execution_count": null,
   "metadata": {},
   "outputs": [],
   "source": []
  },
  {
   "cell_type": "code",
   "execution_count": 5,
   "metadata": {},
   "outputs": [
    {
     "name": "stderr",
     "output_type": "stream",
     "text": [
      "UsageError: Cell magic `%%output` not found.\n"
     ]
    }
   ],
   "source": [
    "%%output size=200"
   ]
  },
  {
   "cell_type": "code",
   "execution_count": 12,
   "metadata": {},
   "outputs": [
    {
     "name": "stdout",
     "output_type": "stream",
     "text": [
      "\u001b[1;32mParameters of 'Curve'\n",
      "=====================\n",
      "\u001b[0m\n",
      "\u001b[1;31mParameters changed from their default values are marked in red.\u001b[0m\n",
      "\u001b[1;36mSoft bound values are marked in cyan.\u001b[0m\n",
      "C/V= Constant/Variable, RO/RW = ReadOnly/ReadWrite, AN=Allow None\n",
      "\n",
      "\u001b[1;34mName                        Value                     Type     Bounds   Mode \u001b[0m\n",
      "\n",
      "group                      'Curve'                   String             C RW \n",
      "label                         ''                     String             C RW \n",
      "cdims                   OrderedDict()                 Dict              V RW \n",
      "kdims                  [Dimension('x')]               List     (1, 2)   V RW \n",
      "vdims                  [Dimension('y')]               List   (1, None)  V RW \n",
      "extents            (None, None, None, None)          Tuple              V RW \n",
      "datatype   ['dataframe', 'dictionary', 'grid', '...   List   (0, None)  V RW \n",
      "\n",
      "\u001b[1;32mParameter docstrings:\n",
      "=====================\u001b[0m\n",
      "\n",
      "\u001b[1;34mgroup:    A string describing the data wrapped by the object.\u001b[0m\n",
      "\u001b[1;31mlabel:    Optional label describing the data, typically reflecting where\u001b[0m\n",
      "\u001b[1;31m          or how it was measured. The label should allow a specific\u001b[0m\n",
      "\u001b[1;31m          measurement or dataset to be referenced for a given group.\u001b[0m\n",
      "\u001b[1;34mcdims:    The constant dimensions defined as a dictionary of Dimension:value\u001b[0m\n",
      "\u001b[1;34m          pairs providing additional dimension information about the object.\u001b[0m\n",
      "\u001b[1;34m          \u001b[0m\n",
      "\u001b[1;34m          Aliased with constant_dimensions.\u001b[0m\n",
      "\u001b[1;31mkdims:    The key dimension(s) of a Chart represent the independent\u001b[0m\n",
      "\u001b[1;31m          variable(s).\u001b[0m\n",
      "\u001b[1;34mvdims:    The value dimensions of the Chart, usually corresponding to a\u001b[0m\n",
      "\u001b[1;34m          number of dependent variables.\u001b[0m\n",
      "\u001b[1;31mextents:  Allows overriding the extents of the Element in 2D space defined\u001b[0m\n",
      "\u001b[1;31m          as four-tuple defining the (left, bottom, right and top) edges.\u001b[0m\n",
      "\u001b[1;34mdatatype: A priority list of the data types to be used for storage\u001b[0m\n",
      "\u001b[1;34m          on the .data attribute. If the input supplied to the element\u001b[0m\n",
      "\u001b[1;34m          constructor cannot be put into the requested format, the next\u001b[0m\n",
      "\u001b[1;34m          format listed will be used until a suitable format is found (or\u001b[0m\n",
      "\u001b[1;34m          the data fails to be understood).\u001b[0m\n"
     ]
    }
   ],
   "source": [
    "import holoviews as hv\n",
    "hv.help(hv.Curve)"
   ]
  },
  {
   "cell_type": "code",
   "execution_count": null,
   "metadata": {},
   "outputs": [],
   "source": []
  }
 ],
 "metadata": {
  "kernelspec": {
   "display_name": "Python 3",
   "language": "python",
   "name": "python3"
  },
  "language_info": {
   "codemirror_mode": {
    "name": "ipython",
    "version": 3
   },
   "file_extension": ".py",
   "mimetype": "text/x-python",
   "name": "python",
   "nbconvert_exporter": "python",
   "pygments_lexer": "ipython3",
   "version": "3.6.9"
  }
 },
 "nbformat": 4,
 "nbformat_minor": 4
}
